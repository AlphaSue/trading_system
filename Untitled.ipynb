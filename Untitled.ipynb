{
 "cells": [
  {
   "cell_type": "code",
   "execution_count": 1,
   "metadata": {
    "collapsed": true
   },
   "outputs": [],
   "source": [
    "from __future__ import print_function\n",
    "\n",
    "from abc import ABCMeta, abstractmethod\n",
    "import datetime\n",
    "import os, os.path\n",
    "\n",
    "import numpy as np\n",
    "import pandas as pd"
   ]
  },
  {
   "cell_type": "code",
   "execution_count": 2,
   "metadata": {
    "collapsed": true
   },
   "outputs": [],
   "source": [
    "s = 'AAPL'\n",
    "csv_dir = 'D:/prepare_for_test/my_strading/mac'"
   ]
  },
  {
   "cell_type": "code",
   "execution_count": 31,
   "metadata": {
    "collapsed": false
   },
   "outputs": [
    {
     "data": {
      "text/html": [
       "<div>\n",
       "<table border=\"1\" class=\"dataframe\">\n",
       "  <thead>\n",
       "    <tr style=\"text-align: right;\">\n",
       "      <th></th>\n",
       "      <th>datetime</th>\n",
       "      <th>open</th>\n",
       "      <th>high</th>\n",
       "      <th>low</th>\n",
       "      <th>close</th>\n",
       "      <th>volume</th>\n",
       "      <th>adj_close</th>\n",
       "    </tr>\n",
       "  </thead>\n",
       "  <tbody>\n",
       "    <tr>\n",
       "      <th>0</th>\n",
       "      <td>1980-12-12</td>\n",
       "      <td>0.513393</td>\n",
       "      <td>0.515625</td>\n",
       "      <td>0.513393</td>\n",
       "      <td>0.513393</td>\n",
       "      <td>0.421597</td>\n",
       "      <td>117258400</td>\n",
       "    </tr>\n",
       "    <tr>\n",
       "      <th>1</th>\n",
       "      <td>1980-12-15</td>\n",
       "      <td>0.488839</td>\n",
       "      <td>0.488839</td>\n",
       "      <td>0.486607</td>\n",
       "      <td>0.486607</td>\n",
       "      <td>0.399601</td>\n",
       "      <td>43971200</td>\n",
       "    </tr>\n",
       "    <tr>\n",
       "      <th>2</th>\n",
       "      <td>1980-12-16</td>\n",
       "      <td>0.453125</td>\n",
       "      <td>0.453125</td>\n",
       "      <td>0.450893</td>\n",
       "      <td>0.450893</td>\n",
       "      <td>0.370272</td>\n",
       "      <td>26432000</td>\n",
       "    </tr>\n",
       "    <tr>\n",
       "      <th>3</th>\n",
       "      <td>1980-12-17</td>\n",
       "      <td>0.462054</td>\n",
       "      <td>0.464286</td>\n",
       "      <td>0.462054</td>\n",
       "      <td>0.462054</td>\n",
       "      <td>0.379437</td>\n",
       "      <td>21610400</td>\n",
       "    </tr>\n",
       "    <tr>\n",
       "      <th>4</th>\n",
       "      <td>1980-12-18</td>\n",
       "      <td>0.475446</td>\n",
       "      <td>0.477679</td>\n",
       "      <td>0.475446</td>\n",
       "      <td>0.475446</td>\n",
       "      <td>0.390436</td>\n",
       "      <td>18362400</td>\n",
       "    </tr>\n",
       "  </tbody>\n",
       "</table>\n",
       "</div>"
      ],
      "text/plain": [
       "     datetime      open      high       low     close    volume  adj_close\n",
       "0  1980-12-12  0.513393  0.515625  0.513393  0.513393  0.421597  117258400\n",
       "1  1980-12-15  0.488839  0.488839  0.486607  0.486607  0.399601   43971200\n",
       "2  1980-12-16  0.453125  0.453125  0.450893  0.450893  0.370272   26432000\n",
       "3  1980-12-17  0.462054  0.464286  0.462054  0.462054  0.379437   21610400\n",
       "4  1980-12-18  0.475446  0.477679  0.475446  0.475446  0.390436   18362400"
      ]
     },
     "execution_count": 31,
     "metadata": {},
     "output_type": "execute_result"
    }
   ],
   "source": [
    "            b= pd.io.parsers.read_csv(\n",
    "                os.path.join(csv_dir, '%s.csv' % s),\n",
    "                header=0,  parse_dates=True,\n",
    "                names=[\n",
    "                    'datetime', 'open', 'high', \n",
    "                    'low', 'close', 'volume', 'adj_close'\n",
    "                ]\n",
    "            ).sort_index()\n",
    "    \n",
    "            b.head()"
   ]
  },
  {
   "cell_type": "code",
   "execution_count": 47,
   "metadata": {
    "collapsed": false
   },
   "outputs": [
    {
     "data": {
      "text/html": [
       "<div>\n",
       "<table border=\"1\" class=\"dataframe\">\n",
       "  <thead>\n",
       "    <tr style=\"text-align: right;\">\n",
       "      <th></th>\n",
       "      <th>open</th>\n",
       "      <th>high</th>\n",
       "      <th>low</th>\n",
       "      <th>close</th>\n",
       "      <th>volume</th>\n",
       "      <th>adj_close</th>\n",
       "    </tr>\n",
       "    <tr>\n",
       "      <th>datetime</th>\n",
       "      <th></th>\n",
       "      <th></th>\n",
       "      <th></th>\n",
       "      <th></th>\n",
       "      <th></th>\n",
       "      <th></th>\n",
       "    </tr>\n",
       "  </thead>\n",
       "  <tbody>\n",
       "    <tr>\n",
       "      <th>1980-12-12</th>\n",
       "      <td>0.513393</td>\n",
       "      <td>0.515625</td>\n",
       "      <td>0.513393</td>\n",
       "      <td>0.513393</td>\n",
       "      <td>0.421597</td>\n",
       "      <td>117258400</td>\n",
       "    </tr>\n",
       "    <tr>\n",
       "      <th>1980-12-15</th>\n",
       "      <td>0.488839</td>\n",
       "      <td>0.488839</td>\n",
       "      <td>0.486607</td>\n",
       "      <td>0.486607</td>\n",
       "      <td>0.399601</td>\n",
       "      <td>43971200</td>\n",
       "    </tr>\n",
       "    <tr>\n",
       "      <th>1980-12-16</th>\n",
       "      <td>0.453125</td>\n",
       "      <td>0.453125</td>\n",
       "      <td>0.450893</td>\n",
       "      <td>0.450893</td>\n",
       "      <td>0.370272</td>\n",
       "      <td>26432000</td>\n",
       "    </tr>\n",
       "    <tr>\n",
       "      <th>1980-12-17</th>\n",
       "      <td>0.462054</td>\n",
       "      <td>0.464286</td>\n",
       "      <td>0.462054</td>\n",
       "      <td>0.462054</td>\n",
       "      <td>0.379437</td>\n",
       "      <td>21610400</td>\n",
       "    </tr>\n",
       "    <tr>\n",
       "      <th>1980-12-18</th>\n",
       "      <td>0.475446</td>\n",
       "      <td>0.477679</td>\n",
       "      <td>0.475446</td>\n",
       "      <td>0.475446</td>\n",
       "      <td>0.390436</td>\n",
       "      <td>18362400</td>\n",
       "    </tr>\n",
       "  </tbody>\n",
       "</table>\n",
       "</div>"
      ],
      "text/plain": [
       "                open      high       low     close    volume  adj_close\n",
       "datetime                                                               \n",
       "1980-12-12  0.513393  0.515625  0.513393  0.513393  0.421597  117258400\n",
       "1980-12-15  0.488839  0.488839  0.486607  0.486607  0.399601   43971200\n",
       "1980-12-16  0.453125  0.453125  0.450893  0.450893  0.370272   26432000\n",
       "1980-12-17  0.462054  0.464286  0.462054  0.462054  0.379437   21610400\n",
       "1980-12-18  0.475446  0.477679  0.475446  0.475446  0.390436   18362400"
      ]
     },
     "execution_count": 47,
     "metadata": {},
     "output_type": "execute_result"
    }
   ],
   "source": [
    "            a= pd.io.parsers.read_csv(\n",
    "                os.path.join(csv_dir, '%s.csv' % s),\n",
    "                header=0, index_col=0, parse_dates=True,\n",
    "                names=[\n",
    "                    'datetime', 'open', 'high', \n",
    "                    'low', 'close', 'volume', 'adj_close'\n",
    "                ]\n",
    "            ).sort_index();\n",
    "    \n",
    "            a.head()"
   ]
  },
  {
   "cell_type": "code",
   "execution_count": 52,
   "metadata": {
    "collapsed": false
   },
   "outputs": [
    {
     "name": "stderr",
     "output_type": "stream",
     "text": [
      "D:\\ANA64Anaconda2\\lib\\site-packages\\ipykernel\\__main__.py:1: FutureWarning: convert_objects is deprecated.  Use the data-type specific converters pd.to_datetime, pd.to_timedelta and pd.to_numeric.\n",
      "  if __name__ == '__main__':\n"
     ]
    }
   ],
   "source": [
    "a=a.convert_objects(convert_numeric=True)"
   ]
  },
  {
   "cell_type": "code",
   "execution_count": 53,
   "metadata": {
    "collapsed": false
   },
   "outputs": [
    {
     "data": {
      "text/plain": [
       "datetime\n",
       "1980-12-12    117258400.0\n",
       "1980-12-15     43971200.0\n",
       "1980-12-16     26432000.0\n",
       "1980-12-17     21610400.0\n",
       "1980-12-18     18362400.0\n",
       "1980-12-19     12157600.0\n",
       "1980-12-22      9340800.0\n",
       "1980-12-23     11737600.0\n",
       "1980-12-24     12000800.0\n",
       "1980-12-26     13893600.0\n",
       "1980-12-29     23290400.0\n",
       "1980-12-30     17220000.0\n",
       "1980-12-31      8937600.0\n",
       "1981-01-02      5415200.0\n",
       "1981-01-05      8932000.0\n",
       "1981-01-06     11289600.0\n",
       "1981-01-07     13921600.0\n",
       "1981-01-08      9956800.0\n",
       "1981-01-09      5376000.0\n",
       "1981-01-12      5924800.0\n",
       "1981-01-13      5762400.0\n",
       "1981-01-14      3572800.0\n",
       "1981-01-15      3516800.0\n",
       "1981-01-16      3348800.0\n",
       "1981-01-19     10393600.0\n",
       "1981-01-20      7520800.0\n",
       "1981-01-21      3976000.0\n",
       "1981-01-22      8887200.0\n",
       "1981-01-23      2805600.0\n",
       "1981-01-26      6160000.0\n",
       "                 ...     \n",
       "2017-09-11     31580800.0\n",
       "2017-09-12     71714000.0\n",
       "2017-09-13     44907400.0\n",
       "2017-09-14     23760700.0\n",
       "2017-09-15     49114600.0\n",
       "2017-09-18     28269400.0\n",
       "2017-09-19     20810600.0\n",
       "2017-09-20     52951400.0\n",
       "2017-09-21     37511700.0\n",
       "2017-09-22     46645400.0\n",
       "2017-09-25     44387300.0\n",
       "2017-09-26     36660000.0\n",
       "2017-09-27     25504200.0\n",
       "2017-09-28     22005500.0\n",
       "2017-09-29     26299800.0\n",
       "2017-10-02     18698800.0\n",
       "2017-10-03     16230300.0\n",
       "2017-10-04     20163800.0\n",
       "2017-10-05     21283800.0\n",
       "2017-10-06     17407600.0\n",
       "2017-10-09     16262900.0\n",
       "2017-10-10     15617000.0\n",
       "2017-10-11     16905600.0\n",
       "2017-10-12     16125100.0\n",
       "2017-10-13     16394200.0\n",
       "2017-10-16     24121500.0\n",
       "2017-10-17     18997300.0\n",
       "2017-10-18     16374200.0\n",
       "2017-10-19     42584200.0\n",
       "2017-10-20     23845900.0\n",
       "Name: adj_close, dtype: float64"
      ]
     },
     "execution_count": 53,
     "metadata": {},
     "output_type": "execute_result"
    }
   ],
   "source": [
    "a[\"adj_close\"]"
   ]
  },
  {
   "cell_type": "code",
   "execution_count": 54,
   "metadata": {
    "collapsed": false
   },
   "outputs": [
    {
     "data": {
      "text/plain": [
       "datetime\n",
       "1980-12-12         NaN\n",
       "1980-12-15   -0.625006\n",
       "1980-12-16   -0.398879\n",
       "1980-12-17   -0.182415\n",
       "1980-12-18   -0.150298\n",
       "1980-12-19   -0.337908\n",
       "1980-12-22   -0.231690\n",
       "1980-12-23    0.256595\n",
       "1980-12-24    0.022424\n",
       "1980-12-26    0.157723\n",
       "1980-12-29    0.676340\n",
       "1980-12-30   -0.260640\n",
       "1980-12-31   -0.480976\n",
       "1981-01-02   -0.394110\n",
       "1981-01-05    0.649431\n",
       "1981-01-06    0.263950\n",
       "1981-01-07    0.233135\n",
       "1981-01-08   -0.284795\n",
       "1981-01-09   -0.460067\n",
       "1981-01-12    0.102083\n",
       "1981-01-13   -0.027410\n",
       "1981-01-14   -0.379981\n",
       "1981-01-15   -0.015674\n",
       "1981-01-16   -0.047771\n",
       "1981-01-19    2.103679\n",
       "1981-01-20   -0.276401\n",
       "1981-01-21   -0.471333\n",
       "1981-01-22    1.235211\n",
       "1981-01-23   -0.684310\n",
       "1981-01-26    1.195609\n",
       "                ...   \n",
       "2017-09-11    0.103780\n",
       "2017-09-12    1.270810\n",
       "2017-09-13   -0.373799\n",
       "2017-09-14   -0.470896\n",
       "2017-09-15    1.067052\n",
       "2017-09-18   -0.424420\n",
       "2017-09-19   -0.263847\n",
       "2017-09-20    1.544444\n",
       "2017-09-21   -0.291582\n",
       "2017-09-22    0.243489\n",
       "2017-09-25   -0.048410\n",
       "2017-09-26   -0.174088\n",
       "2017-09-27   -0.304304\n",
       "2017-09-28   -0.137181\n",
       "2017-09-29    0.195147\n",
       "2017-10-02   -0.289014\n",
       "2017-10-03   -0.132014\n",
       "2017-10-04    0.242355\n",
       "2017-10-05    0.055545\n",
       "2017-10-06   -0.182120\n",
       "2017-10-09   -0.065759\n",
       "2017-10-10   -0.039716\n",
       "2017-10-11    0.082513\n",
       "2017-10-12   -0.046168\n",
       "2017-10-13    0.016688\n",
       "2017-10-16    0.471344\n",
       "2017-10-17   -0.212433\n",
       "2017-10-18   -0.138078\n",
       "2017-10-19    1.600689\n",
       "2017-10-20   -0.440029\n",
       "Name: adj_close, dtype: float64"
      ]
     },
     "execution_count": 54,
     "metadata": {},
     "output_type": "execute_result"
    }
   ],
   "source": [
    "a[\"adj_close\"].pct_change()"
   ]
  }
 ],
 "metadata": {
  "kernelspec": {
   "display_name": "Python 2",
   "language": "python",
   "name": "python2"
  },
  "language_info": {
   "codemirror_mode": {
    "name": "ipython",
    "version": 2
   },
   "file_extension": ".py",
   "mimetype": "text/x-python",
   "name": "python",
   "nbconvert_exporter": "python",
   "pygments_lexer": "ipython2",
   "version": "2.7.13"
  }
 },
 "nbformat": 4,
 "nbformat_minor": 2
}
